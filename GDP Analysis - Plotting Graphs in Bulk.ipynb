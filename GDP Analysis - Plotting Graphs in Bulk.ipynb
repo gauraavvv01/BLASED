{
 "cells": [
  {
   "cell_type": "code",
   "execution_count": 3,
   "id": "df065b96",
   "metadata": {},
   "outputs": [],
   "source": [
    "import os\n",
    "import pandas as pd\n",
    "import plotly.express as px\n",
    "import plotly.offline as pyo\n",
    "df = pd.read_csv(\"gdp.csv\")"
   ]
  },
  {
   "cell_type": "code",
   "execution_count": 4,
   "id": "16931248",
   "metadata": {},
   "outputs": [
    {
     "data": {
      "text/plain": [
       "256"
      ]
     },
     "execution_count": 4,
     "metadata": {},
     "output_type": "execute_result"
    }
   ],
   "source": [
    "df['Country Name'].nunique()"
   ]
  },
  {
   "cell_type": "markdown",
   "id": "07ad21cd",
   "metadata": {},
   "source": [
    "## gdp of each country "
   ]
  },
  {
   "cell_type": "code",
   "execution_count": 5,
   "id": "f49eed89",
   "metadata": {},
   "outputs": [
    {
     "data": {
      "text/plain": [
       "'world.html'"
      ]
     },
     "execution_count": 5,
     "metadata": {},
     "output_type": "execute_result"
    }
   ],
   "source": [
    "df_pr=df[df['Country Name']=='World']\n",
    "fig = px.line(df_pr,\n",
    "       x = 'Year',\n",
    "       y = 'Value',\n",
    "       title = 'World GDP'\n",
    "       )\n",
    "pyo.plot(fig,filename = 'world.html')"
   ]
  },
  {
   "cell_type": "code",
   "execution_count": 10,
   "id": "ce92344a",
   "metadata": {},
   "outputs": [],
   "source": [
    "os.mkdir(\"GDP indiviadual\")\n",
    "for i in df['Country Name'].unique():\n",
    "    df_pr=df[df['Country Name']== i ]\n",
    "    fig = px.line(df_pr,\n",
    "       x = 'Year',\n",
    "       y = 'Value',\n",
    "       title =  i+ ' gdp  analysis'\n",
    "       )\n",
    "    pyo.plot(fig,filename = f'GDP indiviadual/{i}.html',auto_open =  False)\n",
    "    \n",
    "    "
   ]
  },
  {
   "cell_type": "markdown",
   "id": "85e14ca0",
   "metadata": {},
   "source": [
    "## gdp of each country with respect to 80 T"
   ]
  },
  {
   "cell_type": "code",
   "execution_count": 13,
   "id": "7b5294a1",
   "metadata": {},
   "outputs": [
    {
     "ename": "FileExistsError",
     "evalue": "[WinError 183] Cannot create a file when that file already exists: 'GDP indiviadual 2'",
     "output_type": "error",
     "traceback": [
      "\u001b[1;31m---------------------------------------------------------------------------\u001b[0m",
      "\u001b[1;31mFileExistsError\u001b[0m                           Traceback (most recent call last)",
      "Cell \u001b[1;32mIn[13], line 1\u001b[0m\n\u001b[1;32m----> 1\u001b[0m os\u001b[38;5;241m.\u001b[39mmkdir(\u001b[38;5;124m\"\u001b[39m\u001b[38;5;124mGDP indiviadual 2\u001b[39m\u001b[38;5;124m\"\u001b[39m)\n\u001b[0;32m      2\u001b[0m \u001b[38;5;28;01mfor\u001b[39;00m i \u001b[38;5;129;01min\u001b[39;00m df[\u001b[38;5;124m'\u001b[39m\u001b[38;5;124mCountry Name\u001b[39m\u001b[38;5;124m'\u001b[39m]\u001b[38;5;241m.\u001b[39munique():\n\u001b[0;32m      3\u001b[0m     df_pr\u001b[38;5;241m=\u001b[39mdf[df[\u001b[38;5;124m'\u001b[39m\u001b[38;5;124mCountry Name\u001b[39m\u001b[38;5;124m'\u001b[39m]\u001b[38;5;241m==\u001b[39m i ]\n",
      "\u001b[1;31mFileExistsError\u001b[0m: [WinError 183] Cannot create a file when that file already exists: 'GDP indiviadual 2'"
     ]
    }
   ],
   "source": [
    "os.mkdir(\"GDP indiviadual 2\")\n",
    "for i in df['Country Name'].unique():\n",
    "    df_pr=df[df['Country Name']== i ]\n",
    "    fig = px.line(df_pr,\n",
    "       y = 'Year',\n",
    "       x = 'Value',\n",
    "       title =  i+ ' gdp  analysis',\n",
    "       range_y = [0,800000000000]\n",
    "                  \n",
    "       )\n",
    "    pyo.plot(fig,filename = f'GDP indiviadual 2/{i}.html',auto_open =  False)\n",
    "    "
   ]
  },
  {
   "cell_type": "code",
   "execution_count": null,
   "id": "1d3c40be",
   "metadata": {},
   "outputs": [],
   "source": []
  }
 ],
 "metadata": {
  "kernelspec": {
   "display_name": "Python 3 (ipykernel)",
   "language": "python",
   "name": "python3"
  },
  "language_info": {
   "codemirror_mode": {
    "name": "ipython",
    "version": 3
   },
   "file_extension": ".py",
   "mimetype": "text/x-python",
   "name": "python",
   "nbconvert_exporter": "python",
   "pygments_lexer": "ipython3",
   "version": "3.11.5"
  }
 },
 "nbformat": 4,
 "nbformat_minor": 5
}
