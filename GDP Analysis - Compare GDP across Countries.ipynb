{
 "cells": [
  {
   "cell_type": "code",
   "execution_count": 12,
   "id": "12ecba7c",
   "metadata": {},
   "outputs": [],
   "source": [
    "import os\n",
    "import pandas as pd\n",
    "import plotly.express as px\n",
    "import plotly.offline as pyo\n",
    "df = pd.read_csv(\"gdp.csv\")"
   ]
  },
  {
   "cell_type": "markdown",
   "id": "34bf27aa",
   "metadata": {},
   "source": [
    "## GDP of all the countries"
   ]
  },
  {
   "cell_type": "code",
   "execution_count": 13,
   "id": "fa4fe909",
   "metadata": {},
   "outputs": [
    {
     "data": {
      "text/plain": [
       "'countries gdp.html'"
      ]
     },
     "execution_count": 13,
     "metadata": {},
     "output_type": "execute_result"
    }
   ],
   "source": [
    "df_pr=df[df['Country Name']=='World']\n",
    "fig = px.line(df,\n",
    "       x = 'Year',\n",
    "       y = 'Value',\n",
    "       title = 'GDP analysis of all the country ',\n",
    "       color = 'Country Name',\n",
    "       )\n",
    "pyo.plot(fig,filename = 'countries gdp.html')"
   ]
  },
  {
   "cell_type": "markdown",
   "id": "d18b3925",
   "metadata": {},
   "source": [
    "## GDP  of two countries"
   ]
  },
  {
   "cell_type": "code",
   "execution_count": 14,
   "id": "837d7e63",
   "metadata": {},
   "outputs": [],
   "source": [
    "a=df[df['Country Name']=='China']\n",
    "b=df[df['Country Name']=='India']\n",
    "\n",
    "\n"
   ]
  },
  {
   "cell_type": "code",
   "execution_count": 19,
   "id": "d1f7ef4d",
   "metadata": {},
   "outputs": [],
   "source": [
    "df_pr=pd.concat([a,b], axis = 0)"
   ]
  },
  {
   "cell_type": "code",
   "execution_count": 24,
   "id": "765a4c5e",
   "metadata": {},
   "outputs": [
    {
     "data": {
      "text/plain": [
       "'india-chaina gdp.html'"
      ]
     },
     "execution_count": 24,
     "metadata": {},
     "output_type": "execute_result"
    }
   ],
   "source": [
    "fig2 =px.line(df_pr,\n",
    "       y = \"Value\",\n",
    "       x= 'Year',\n",
    "       title = 'comparison between and china',\n",
    "       color = 'Country Name')\n",
    "pyo.plot(fig2,filename = 'india-chaina gdp.html')"
   ]
  },
  {
   "cell_type": "code",
   "execution_count": 26,
   "id": "a2b99ee3",
   "metadata": {},
   "outputs": [
    {
     "ename": "NameError",
     "evalue": "name 'lst' is not defined",
     "output_type": "error",
     "traceback": [
      "\u001b[1;31m---------------------------------------------------------------------------\u001b[0m",
      "\u001b[1;31mNameError\u001b[0m                                 Traceback (most recent call last)",
      "Cell \u001b[1;32mIn[26], line 1\u001b[0m\n\u001b[1;32m----> 1\u001b[0m \u001b[38;5;124m\"\u001b[39m\u001b[38;5;124m \u001b[39m\u001b[38;5;124m\"\u001b[39m\u001b[38;5;241m.\u001b[39mjoin(lst)\n",
      "\u001b[1;31mNameError\u001b[0m: name 'lst' is not defined"
     ]
    }
   ],
   "source": []
  },
  {
   "cell_type": "code",
   "execution_count": null,
   "id": "487e4ea1",
   "metadata": {},
   "outputs": [],
   "source": []
  }
 ],
 "metadata": {
  "kernelspec": {
   "display_name": "Python 3 (ipykernel)",
   "language": "python",
   "name": "python3"
  },
  "language_info": {
   "codemirror_mode": {
    "name": "ipython",
    "version": 3
   },
   "file_extension": ".py",
   "mimetype": "text/x-python",
   "name": "python",
   "nbconvert_exporter": "python",
   "pygments_lexer": "ipython3",
   "version": "3.11.5"
  }
 },
 "nbformat": 4,
 "nbformat_minor": 5
}
